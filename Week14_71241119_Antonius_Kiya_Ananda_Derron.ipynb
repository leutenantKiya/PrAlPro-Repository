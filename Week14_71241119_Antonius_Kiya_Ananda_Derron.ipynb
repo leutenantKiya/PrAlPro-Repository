{
 "cells": [
  {
   "cell_type": "code",
   "execution_count": 1,
   "id": "9619eb96-929b-4c38-8f60-0986f1034d55",
   "metadata": {},
   "outputs": [
    {
     "name": "stdout",
     "output_type": "stream",
     "text": [
      "102 Bukan Prima\n",
      "199 prima\n"
     ]
    }
   ],
   "source": [
    "def prima(n, divisor = 2):\n",
    "    if n == divisor:\n",
    "        return \"prima\"\n",
    "    if n % divisor == 0:\n",
    "        return \"Bukan Prima\"\n",
    "    else:\n",
    "        return prima(n, divisor + 1)\n",
    "\n",
    "print(\"102\", prima(102))\n",
    "print(\"199\", prima(199))"
   ]
  },
  {
   "cell_type": "code",
   "execution_count": 6,
   "id": "6169bea4-af99-4fba-a4fd-63c678e619fa",
   "metadata": {},
   "outputs": [
    {
     "name": "stdout",
     "output_type": "stream",
     "text": [
      "kodok aka kodok Palindrom\n",
      "ibu Bukan Palindrom\n"
     ]
    }
   ],
   "source": [
    "def palindrom(kata, check_legit = []):\n",
    "    check_legit = list(i for i in kata[-1::-1])\n",
    "    if len(kata) == 0:\n",
    "        return \"Palindrom\"\n",
    "    if kata[0] == check_legit[0]:\n",
    "        return palindrom(kata[1:len(kata) - 1], check_legit)\n",
    "    else:\n",
    "        return \"Bukan Palindrom\"\n",
    "    \n",
    "print(\"kodok aka kodok\",palindrom(\"kodok aka kodok\"))\n",
    "print(\"ibu\", palindrom(\"ibu\"))"
   ]
  },
  {
   "cell_type": "code",
   "execution_count": 3,
   "id": "0d862939-76c9-48d3-9833-bfd15c371284",
   "metadata": {},
   "outputs": [
    {
     "name": "stdout",
     "output_type": "stream",
     "text": [
      "1 + 3 + 5 + 7 + 9 + 11 = 36\n"
     ]
    }
   ],
   "source": [
    "#soalnya agak rancu karena diminta deret ganjil tp ga urut 1,3,5,7,..,n . Tapi kalau mau deret bilangan ganjil, maka\n",
    "def deret_ganjil(n, awal = 1):\n",
    "    if awal >= n:\n",
    "        print(awal,\"=\", end=\" \")\n",
    "        return awal\n",
    "    else:\n",
    "        print(awal, end=\" + \")\n",
    "        return awal + deret_ganjil(n, awal + 2)\n",
    "print(deret_ganjil(11))"
   ]
  },
  {
   "cell_type": "code",
   "execution_count": 4,
   "id": "27c1f902-7fec-4b87-b28e-ea4c63ff34ad",
   "metadata": {},
   "outputs": [
    {
     "name": "stdout",
     "output_type": "stream",
     "text": [
      "27\n",
      "9\n"
     ]
    }
   ],
   "source": [
    "def jumlah_digit(bilangan, counter = 0):\n",
    "    if len(bilangan) == 0:\n",
    "        return counter\n",
    "    counter += int(bilangan[0])\n",
    "    return jumlah_digit(bilangan[1:], counter)\n",
    "\n",
    "print(jumlah_digit(\"999\"))\n",
    "print(jumlah_digit(\"234\"))"
   ]
  },
  {
   "cell_type": "code",
   "execution_count": 5,
   "id": "86b5673e-2c82-48bc-9887-f4460a4dd40e",
   "metadata": {},
   "outputs": [
    {
     "name": "stdout",
     "output_type": "stream",
     "text": [
      "45\n"
     ]
    }
   ],
   "source": [
    "#kombinasi\n",
    "#n(n, r) = n! / (n-r)! * r!\n",
    "#misal n  = 0 r = 0 -> 1 n = 0 r = 1 not possible if n = 0 m != 0 -> 1  \n",
    "def combination(n, r):\n",
    "    if r == 0:\n",
    "        return 1\n",
    "    else:\n",
    "        return  int((n - r + 1)/r * combination(n, r -1))\n",
    "\n",
    "print(combination(10,2))"
   ]
  }
 ],
 "metadata": {
  "kernelspec": {
   "display_name": "Python 3 (ipykernel)",
   "language": "python",
   "name": "python3"
  },
  "language_info": {
   "codemirror_mode": {
    "name": "ipython",
    "version": 3
   },
   "file_extension": ".py",
   "mimetype": "text/x-python",
   "name": "python",
   "nbconvert_exporter": "python",
   "pygments_lexer": "ipython3",
   "version": "3.12.7"
  }
 },
 "nbformat": 4,
 "nbformat_minor": 5
}
