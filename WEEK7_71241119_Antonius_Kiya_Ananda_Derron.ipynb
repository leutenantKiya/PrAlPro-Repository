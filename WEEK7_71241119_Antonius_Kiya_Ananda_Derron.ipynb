{
 "cells": [
  {
   "cell_type": "code",
   "execution_count": 1,
   "id": "d35f87f7-8f89-464d-9ba7-4e33bace7adb",
   "metadata": {},
   "outputs": [
    {
     "name": "stdin",
     "output_type": "stream",
     "text": [
      "Masukkan nomor anda:  21\n"
     ]
    },
    {
     "name": "stdout",
     "output_type": "stream",
     "text": [
      "19 adalah prima terdekat\n"
     ]
    }
   ],
   "source": [
    "def closest_prime(number):\n",
    "    for i in range(number - 1, 1, -1):\n",
    "        for j in range(i - 1, 2, -1):\n",
    "            if i % j == 0:\n",
    "                break\n",
    "        else:\n",
    "            print(f\"{i} adalah prima terdekat\")\n",
    "            break\n",
    "while True:\n",
    "    number  = input(\"Masukkan nomor anda: \")\n",
    "    try:\n",
    "        number = int(number)\n",
    "        x = closest_prime(number) if number > 2 else print(\"2 adalah prima terkecil\") if number == 2 else print(\"tidak ada prima dibawah 2\") \n",
    "        break    \n",
    "    except ValueError as e:\n",
    "        print(f\"Nguawor cik!! 🤫🧏‍♂️{e}\")"
   ]
  },
  {
   "cell_type": "code",
   "execution_count": 2,
   "id": "838b72df-111a-4b23-9af6-b4a6c4fa1078",
   "metadata": {},
   "outputs": [
    {
     "name": "stdin",
     "output_type": "stream",
     "text": [
      "Masukkan deret faktorial:  tujuh\n"
     ]
    },
    {
     "name": "stdout",
     "output_type": "stream",
     "text": [
      "Nguawor cik!! 🤫🧏‍♂️invalid literal for int() with base 10: 'tujuh'\n"
     ]
    },
    {
     "name": "stdin",
     "output_type": "stream",
     "text": [
      "Masukkan deret faktorial:  7\n"
     ]
    },
    {
     "name": "stdout",
     "output_type": "stream",
     "text": [
      "5040 7 6 5 4 3 2 1 \n",
      "720 6 5 4 3 2 1 \n",
      "120 5 4 3 2 1 \n",
      "24 4 3 2 1 \n",
      "6 3 2 1 \n",
      "2 2 1 \n",
      "1 1 \n"
     ]
    }
   ],
   "source": [
    "def factorial(fact):\n",
    "    if fact == 1:\n",
    "        return 1\n",
    "    else:\n",
    "        return fact * factorial(fact - 1)\n",
    "def factSeries(n):\n",
    "    counter = n\n",
    "    for i in range(n):\n",
    "        print(factorial(counter), end=\" \")\n",
    "        for j in range(counter, 0, -1):\n",
    "            print(j, end=\" \") \n",
    "        print()   \n",
    "        counter -= 1\n",
    "        \n",
    "while True:\n",
    "    fact  = input(\"Masukkan deret faktorial: \")\n",
    "    try:\n",
    "        fact = int(fact)\n",
    "        factSeries(fact)\n",
    "        break\n",
    "    except ValueError as e:\n",
    "        print(f\"Nguawor cik!! 🤫🧏‍♂️{e}\")"
   ]
  },
  {
   "cell_type": "code",
   "execution_count": 3,
   "id": "22d5c61e-8eb8-47c6-bdea-7d2719f7f62c",
   "metadata": {},
   "outputs": [
    {
     "name": "stdin",
     "output_type": "stream",
     "text": [
      "Masukkan panjang:  5\n",
      "Masukkan lebar:  4\n"
     ]
    },
    {
     "name": "stdout",
     "output_type": "stream",
     "text": [
      "1 2 3 4 \n",
      "5 6 7 8 \n",
      "9 10 11 12 \n",
      "13 14 15 16 \n",
      "17 18 19 20 \n"
     ]
    }
   ],
   "source": [
    "def deret(dhuwure, ambane):\n",
    "    counter = 1\n",
    "    for i in range(dhuwure):\n",
    "        for j in range(counter, ambane + 1):\n",
    "            print(j, end=\" \")\n",
    "            counter += 1\n",
    "            ambane += 1 \n",
    "        print()\n",
    "\n",
    "while True:\n",
    "    length  = input(\"Masukkan panjang: \")\n",
    "    width = input(\"Masukkan lebar: \")\n",
    "    try:\n",
    "        length, width = int(length), int(width)\n",
    "        deret(length, width)\n",
    "        break\n",
    "    except ValueError as e:\n",
    "        print(f\"Nguawor cik!! 🤫🧏‍♂️{e}\")"
   ]
  },
  {
   "cell_type": "code",
   "execution_count": null,
   "id": "6448e39e-fed4-40cb-b44c-5b7cbe9f68f7",
   "metadata": {},
   "outputs": [],
   "source": []
  }
 ],
 "metadata": {
  "kernelspec": {
   "display_name": "Python 3 (ipykernel)",
   "language": "python",
   "name": "python3"
  },
  "language_info": {
   "codemirror_mode": {
    "name": "ipython",
    "version": 3
   },
   "file_extension": ".py",
   "mimetype": "text/x-python",
   "name": "python",
   "nbconvert_exporter": "python",
   "pygments_lexer": "ipython3",
   "version": "3.12.7"
  }
 },
 "nbformat": 4,
 "nbformat_minor": 5
}
