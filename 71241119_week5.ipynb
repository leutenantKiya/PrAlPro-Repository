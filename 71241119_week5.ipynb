{
 "cells": [
  {
   "cell_type": "code",
   "execution_count": 1,
   "id": "f5fbdab2-8d0f-400c-9e71-d6e9d02f7163",
   "metadata": {},
   "outputs": [
    {
     "name": "stdin",
     "output_type": "stream",
     "text": [
      "angka 1 :  1\n",
      "angka 2 :  2\n",
      "angka 3 :  3\n"
     ]
    },
    {
     "name": "stdout",
     "output_type": "stream",
     "text": [
      "True\n"
     ]
    }
   ],
   "source": [
    "def cek_angka(a, b, c):\n",
    "    if not(a == b or a == c or b == c):\n",
    "        if a + b == c or b + c == a or a + c == b:\n",
    "            return True\n",
    "    return False\n",
    "\n",
    "a = int(input(\"angka 1 : \"))\n",
    "b = int(input(\"angka 2 : \"))\n",
    "c = int(input(\"angka 3 : \"))\n",
    "\n",
    "print(cek_angka(a, b, c))"
   ]
  },
  {
   "cell_type": "code",
   "execution_count": 2,
   "id": "45216848-8d5e-4256-80dd-ad76a3d1c782",
   "metadata": {},
   "outputs": [
    {
     "name": "stdout",
     "output_type": "stream",
     "text": [
      "True\n",
      "True\n",
      "False\n",
      "True\n",
      "False\n"
     ]
    }
   ],
   "source": [
    "def cek_digit_belakang(a, b, c):\n",
    "    values = [x % 10 for x in [a, b, c]]\n",
    "    a, b, c = values       \n",
    "    return a == b or a == c or b == c\n",
    "        \n",
    "print(cek_digit_belakang(30, 20, 18))\n",
    "print(cek_digit_belakang(145, 5, 100))\n",
    "print(cek_digit_belakang(71, 187, 18))\n",
    "print(cek_digit_belakang(1024, 14, 94))\n",
    "print(cek_digit_belakang(53, 8900, 658))"
   ]
  },
  {
   "cell_type": "code",
   "execution_count": 3,
   "id": "7793bb7f-0d7a-4ef2-84c1-328678343ce3",
   "metadata": {},
   "outputs": [
    {
     "name": "stdout",
     "output_type": "stream",
     "text": [
      "========== Selamat datang di menu konversi!!! シ ==========\n",
      "Silahkan pilih konversi yang diinginkan :\n",
      "  \n",
      "      1. Celcius to Fahrenheit\n",
      "      2. Celcius to Reamur\n",
      "      \n"
     ]
    },
    {
     "name": "stdin",
     "output_type": "stream",
     "text": [
      "Operasi :  1\n",
      "Masukkan suhu konversi:  100\n"
     ]
    },
    {
     "name": "stdout",
     "output_type": "stream",
     "text": [
      "Suhu anda setelah di konversi ke fahrenheit menjadi 212 derajat fahrenheit\n"
     ]
    },
    {
     "name": "stdin",
     "output_type": "stream",
     "text": [
      "Operasi :  2\n",
      "Masukkan suhu konversi:  80\n"
     ]
    },
    {
     "name": "stdout",
     "output_type": "stream",
     "text": [
      "Suhu anda setelah di konversi ke reamur menjadi 64 derajat reamaur\n"
     ]
    },
    {
     "name": "stdin",
     "output_type": "stream",
     "text": [
      "Operasi :  1\n",
      "Masukkan suhu konversi:  0\n"
     ]
    },
    {
     "name": "stdout",
     "output_type": "stream",
     "text": [
      "Suhu anda setelah di konversi ke fahrenheit menjadi 32 derajat fahrenheit\n"
     ]
    }
   ],
   "source": [
    "def konversi_suhu_celcius(suhu, operasi):\n",
    "    konversi = (lambda x: (9/5) * x + 32) if operasi == 1 else (lambda x: 0.8 * x)\n",
    "    x = konversi(suhu)\n",
    "    return int(x)\n",
    "\n",
    "fahrenheit = [\"fahrenheit\", \"1\"]\n",
    "reamur = [\"reamur\", \"2\"]\n",
    "\n",
    "print(\"=\"*10, \"Selamat datang di menu konversi!!! シ\", \"=\"*10)\n",
    "print(\"Silahkan pilih konversi yang diinginkan :\")\n",
    "print(\"\"\"  \n",
    "      1. Celcius to Fahrenheit\n",
    "      2. Celcius to Reamur\n",
    "      \"\"\")\n",
    "\n",
    "n = 0\n",
    "while n < 3:\n",
    "    operasi = input(\"Operasi : \")\n",
    "    try: \n",
    "        suhu = float(input(\"Masukkan suhu konversi: \"))\n",
    "        if operasi.lower() in fahrenheit:\n",
    "            print(f\"Suhu anda setelah di konversi ke fahrenheit menjadi {konversi_suhu_celcius(suhu, 1)} derajat fahrenheit\")\n",
    "            n += 1\n",
    "        elif operasi.lower() in reamur:\n",
    "            print(f\"Suhu anda setelah di konversi ke reamur menjadi {konversi_suhu_celcius(suhu, 2)} derajat reamaur\")\n",
    "            n += 1\n",
    "        else:\n",
    "            raise ValueError(\"Maaf sepertinya anda salah memasukkan input!!\")\n",
    "    except ValueError as e:\n",
    "        print(\"Maaf, tolong masukkan angka ya!!!😠\")"
   ]
  },
  {
   "cell_type": "code",
   "execution_count": null,
   "id": "5e03a13a-70fe-4254-b6e7-3b4a04906412",
   "metadata": {},
   "outputs": [],
   "source": []
  }
 ],
 "metadata": {
  "kernelspec": {
   "display_name": "Python 3 (ipykernel)",
   "language": "python",
   "name": "python3"
  },
  "language_info": {
   "codemirror_mode": {
    "name": "ipython",
    "version": 3
   },
   "file_extension": ".py",
   "mimetype": "text/x-python",
   "name": "python",
   "nbconvert_exporter": "python",
   "pygments_lexer": "ipython3",
   "version": "3.12.7"
  }
 },
 "nbformat": 4,
 "nbformat_minor": 5
}
