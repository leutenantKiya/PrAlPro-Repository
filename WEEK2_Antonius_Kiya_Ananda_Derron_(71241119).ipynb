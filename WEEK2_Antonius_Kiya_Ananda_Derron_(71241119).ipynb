{
  "nbformat": 4,
  "nbformat_minor": 0,
  "metadata": {
    "colab": {
      "provenance": []
    },
    "kernelspec": {
      "name": "python3",
      "display_name": "Python 3"
    },
    "language_info": {
      "name": "python"
    }
  },
  "cells": [
    {
      "cell_type": "code",
      "execution_count": null,
      "metadata": {
        "id": "Gijc1KO6Ulbe",
        "colab": {
          "base_uri": "https://localhost:8080/"
        },
        "outputId": "6b4887e9-70a1-4d19-bdb4-c3f3bf69e90e"
      },
      "outputs": [
        {
          "output_type": "stream",
          "name": "stdout",
          "text": [
            "Tinggi badan anda (Dalam Meter) : 1.7\n",
            "BMI yang diinginkan : 25\n",
            "Berat yang diperlukan : 72.25Kg\n"
          ]
        }
      ],
      "source": [
        "#BMI Program 2.1\n",
        "\n",
        "#berat dalam kg dan tinggi badan dalam meter\n",
        "def berat(bmi, tinggi_badan) -> float:\n",
        "    #kembalikan hasil pengukuran BMI pengguna\n",
        "    return bmi * tinggi_badan ** 2\n",
        "\n",
        "tinggi_pengguna = float(input(\"Tinggi badan anda (Dalam Meter) : \"))\n",
        "bmi = float(input(\"BMI yang diinginkan : \"))\n",
        "\n",
        "#memanggil langsung fungsi sebagai ekspresi dalam statement print\n",
        "print(f\"Berat yang diperlukan : {berat(bmi, tinggi_pengguna):.2f}Kg\")"
      ]
    },
    {
      "cell_type": "code",
      "source": [
        "F(x) program 2.2"
        "def funct_x(x):\n",
        "    fx = 2 * x ** 3 + 2 * x + 15 / x\n",
        "    return fx\n",
        "\n",
        "#input hanya berupa bilangan bulat / integer\n",
        "x = int(input(\"Masukkan 'x' untuk memulai operasi : \"))\n",
        "\n",
        "print(f\"nilai dari f(x) untuk f({x}) = 2x\\u00b3 + 2x + 15/x = {funct_x(x)}\")"
      ],
      "metadata": {
        "colab": {
          "base_uri": "https://localhost:8080/"
        },
        "id": "SQbbpfZSI3wX",
        "outputId": "6b9c333c-9f3d-46a4-b96a-e29c219dcb07"
      },
      "execution_count": null,
      "outputs": [
        {
          "output_type": "stream",
          "name": "stdout",
          "text": [
            "Masukkan 'x' untuk memulai operasi : 5\n",
            "nilai dari f(x) untuk f(5) = 2x³ + 2x + 15/x = 263.0\n"
          ]
        }
      ]
    },
    {
      "cell_type": "code",
      "source": [
        "Program sebaran pengeluaran 2.3"
        "def sebaran_gaji(gaji, persentase) -> float:\n",
        "    nominal = (persentase / 100) * gaji\n",
        "    return nominal\n",
        "\n",
        "#mendeklarasikan bahwa Budi akan bekerja dalam periode fix 5 minggu\n",
        "PERIODE = 5\n",
        "\n",
        "gaji = float(input(\"Berapa gaji perjam anda : \"))\n",
        "jam_kerja = int(input(\"Jam kerja per minggu : \"))\n",
        "total_gaji = PERIODE * gaji * jam_kerja\n",
        "persentase = [14, 10, 1, 25, 30, 70]\n",
        "txt = \"Gaji yang akan diterima Budi setelah bekerja {} jam per minggu selama {} minggu adalah Rp.{:,.2f}\"\n",
        "\n",
        "print(txt.format(jam_kerja, PERIODE, total_gaji))\n",
        "print(\"=\" * (len(txt) + 5))\n",
        "\n",
        "print(\"List pengeluaran Budi :\")\n",
        "setelah_pajak  = total_gaji - sebaran_gaji(total_gaji, persentase[0])\n",
        "print(f\"Pendapatan Budi setelah membayar pajak : Rp{setelah_pajak:,.2f}\")\n",
        "\n",
        "#aksesoris ama baju\n",
        "pakaian_aksesoris = sebaran_gaji(setelah_pajak, persentase[1])\n",
        "print(f\"Pengeluaran Budi untuk pakaian dan aksesoris adalah : Rp.{pakaian_aksesoris:,.2f}\")\n",
        "\n",
        "#alat tulis\n",
        "alat_tulis = sebaran_gaji(setelah_pajak, persentase[2])\n",
        "print(f\"Pengeluaran Budi untuk alat tulis adalah : Rp.{alat_tulis:,.2f}\\n\")\n",
        "\n",
        "#sisa1\n",
        "sisa = setelah_pajak - pakaian_aksesoris - alat_tulis\n",
        "print(f\"sisa uang setelah pengeluaran : Rp.{sisa:,.2f}\")\n",
        "\n",
        "#sedekah\n",
        "print(\"=\" * (len(txt) + 5))\n",
        "untuk_sedekah = sebaran_gaji(sisa, persentase[3])\n",
        "print(f\"Uang untuk sedekah : Rp.{untuk_sedekah:,.2f}\")\n",
        "untuk_yatim = sebaran_gaji(untuk_sedekah, persentase[4])\n",
        "print(f\"Alokasi untuk anak yatim : Rp.{untuk_yatim:,.2f}\")\n",
        "untuk_dhuafa = sebaran_gaji(untuk_sedekah, persentase[5])\n",
        "print(f\"Alokasi untuk kaum dhuafa : Rp.{untuk_dhuafa:,.2f}\")"
      ],
      "metadata": {
        "colab": {
          "base_uri": "https://localhost:8080/"
        },
        "id": "9ybS60-vN1fK",
        "outputId": "19155b0a-d244-4973-f035-3f8b703b1c49"
      },
      "execution_count": null,
      "outputs": [
        {
          "output_type": "stream",
          "name": "stdout",
          "text": [
            "Berapa gaji perjam anda : 10000\n",
            "Jam kerja per minggu : 49\n",
            "Gaji yang akan diterima Budi setelah bekerja 49 jam per minggu selama 5 minggu adalah Rp.2,450,000.00\n",
            "======================================================================================================\n",
            "List pengeluaran Budi :\n",
            "Pendapatan Budi setelah membayar pajak : Rp2,107,000.00\n",
            "Pengeluaran Budi untuk pakaian dan aksesoris adalah : Rp.210,700.00\n",
            "Pengeluaran Budi untuk alat tulis adalah : Rp.21,070.00\n",
            "\n",
            "sisa uang setelah pengeluaran : Rp.1,875,230.00\n",
            "======================================================================================================\n",
            "Uang untuk sedekah : Rp.468,807.50\n",
            "Alokasi untuk anak yatim : Rp.140,642.25\n",
            "Alokasi untuk kaum dhuafa : Rp.328,165.25\n"
          ]
        }
      ]
    }
  ]
}
