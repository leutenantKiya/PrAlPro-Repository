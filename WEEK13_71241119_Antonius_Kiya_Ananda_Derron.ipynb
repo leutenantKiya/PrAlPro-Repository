{
 "cells": [
  {
   "cell_type": "code",
   "execution_count": 4,
   "id": "400a4fc1-0dba-4c1a-b465-15777899fec6",
   "metadata": {},
   "outputs": [
    {
     "name": "stdin",
     "output_type": "stream",
     "text": [
      "Masukkan jumlah kategori:  3\n",
      "\n",
      "Masukkan nama kategori:  game\n"
     ]
    },
    {
     "name": "stdout",
     "output_type": "stream",
     "text": [
      "\n",
      "Masukkan 5 aplikasi untuk kategori game:\n"
     ]
    },
    {
     "name": "stdin",
     "output_type": "stream",
     "text": [
      "Masukkan nama app :  valo\n",
      "Masukkan nama app :  marvel\n",
      "Masukkan nama app :  pb\n",
      "Masukkan nama app :  cs\n",
      "Masukkan nama app :  gta\n",
      "\n",
      "Masukkan nama kategori:  hiburan\n"
     ]
    },
    {
     "name": "stdout",
     "output_type": "stream",
     "text": [
      "\n",
      "Masukkan 5 aplikasi untuk kategori hiburan:\n"
     ]
    },
    {
     "name": "stdin",
     "output_type": "stream",
     "text": [
      "Masukkan nama app :  valo\n",
      "Masukkan nama app :  marvel\n",
      "Masukkan nama app :  yt\n",
      "Masukkan nama app :  ig\n",
      "Masukkan nama app :  x\n",
      "\n",
      "Masukkan nama kategori:  penting\n"
     ]
    },
    {
     "name": "stdout",
     "output_type": "stream",
     "text": [
      "\n",
      "Masukkan 5 aplikasi untuk kategori penting:\n"
     ]
    },
    {
     "name": "stdin",
     "output_type": "stream",
     "text": [
      "Masukkan nama app :  binance\n",
      "Masukkan nama app :  valo\n",
      "Masukkan nama app :  x\n",
      "Masukkan nama app :  eclass\n",
      "Masukkan nama app :  capcut\n"
     ]
    },
    {
     "name": "stdout",
     "output_type": "stream",
     "text": [
      "{'game': ['valo', 'marvel', 'pb', 'cs', 'gta'], 'hiburan': ['valo', 'marvel', 'yt', 'ig', 'x'], 'penting': ['binance', 'valo', 'x', 'eclass', 'capcut']}\n",
      "Aplikasi unik : {'cs', 'binance', 'ig', 'yt', 'eclass', 'gta', 'pb', 'capcut'}\n",
      "Aplikasi berpotongan pada tepat 2 jenis: {'marvel', 'x'}\n"
     ]
    }
   ],
   "source": [
    "NUMBER_OF_APP = 5\n",
    "def app_unique(the_set):\n",
    "    app = list(set(item) for item in the_set.values())\n",
    "    unique = set()\n",
    "    duplicate = set()\n",
    "    for i in app:\n",
    "        for app in i:\n",
    "            if app in unique:\n",
    "                duplicate.add(app)\n",
    "            else:\n",
    "                unique.add(app)\n",
    "    result = unique  ^ duplicate\n",
    "    if len(duplicate) == 0:\n",
    "        print(\"Semua aplikasi unik\")\n",
    "    else:\n",
    "        print(result)\n",
    "        \n",
    "def show_intersection(the_set):\n",
    "    #cuma buat n>2\n",
    "    app = list(set(item) for item in the_set.values())\n",
    "    duplicate = dict()\n",
    "    interseksi = set()\n",
    "    if len(app) <= 2:\n",
    "        print(\"Maaf jenis aplikasi tidak cukup\")\n",
    "    else:\n",
    "        for i in app:\n",
    "            for j in i:\n",
    "                duplicate[j] = duplicate.get(j, 0) + 1\n",
    "        for i in duplicate:\n",
    "            if duplicate[i] == 2:\n",
    "                interseksi.add(i)\n",
    "        print(interseksi)\n",
    "\n",
    "app_dict = dict()\n",
    "jumlah_jenis = int(input(\"Masukkan jumlah kategori: \"))\n",
    "for i in range(jumlah_jenis):\n",
    "    nama_kategori = input(\"\\nMasukkan nama kategori: \")\n",
    "    print(f\"\\nMasukkan {NUMBER_OF_APP} aplikasi untuk kategori {nama_kategori}:\")\n",
    "    ls = list()\n",
    "    for name in range(NUMBER_OF_APP):\n",
    "        app = input(f\"Masukkan nama app : \")\n",
    "        ls.append(app)    \n",
    "    app_dict[nama_kategori] = ls\n",
    "print(app_dict)\n",
    "print(\"Aplikasi unik : \", end=\"\")\n",
    "unik = app_unique(app_dict)\n",
    "print(\"Aplikasi berpotongan pada tepat 2 jenis: \", end=\"\")\n",
    "show_intersection(app_dict)"
   ]
  },
  {
   "cell_type": "code",
   "execution_count": 5,
   "id": "9f61c873-6694-4055-920b-6020fc151135",
   "metadata": {},
   "outputs": [
    {
     "name": "stdout",
     "output_type": "stream",
     "text": [
      "List: \n",
      "[1, True, 'tiga', (4,)]\n",
      "List menjadi set: \n",
      "{1, 'tiga', (4,)}\n",
      "Set menjadi list: \n",
      "[1, True, 'tiga', (4,)]\n",
      "\n",
      "Tuple\n",
      "(1, True, 'tiga', 4)\n",
      "Tuple menjadi set: \n",
      "{1, 'tiga', 4}\n",
      "Set menjadi tuple: \n",
      "(1, 'tiga', 4)\n"
     ]
    }
   ],
   "source": [
    "# list \n",
    "print(\"List: \")\n",
    "ls = [1, True, \"tiga\", (4,)]\n",
    "print(ls)\n",
    "\n",
    "#list menjadi set\n",
    "print(\"List menjadi set: \")\n",
    "ls_to_set = set(ls)\n",
    "print(ls_to_set)\n",
    "print(\"Set menjadi list: \")\n",
    "\n",
    "#set menjadi list\n",
    "set_to_ls = list(ls_to_set)\n",
    "print(ls)\n",
    "print()\n",
    "\n",
    "#tuple\n",
    "print(\"Tuple\")\n",
    "tple = (1, True, \"tiga\", 4)\n",
    "print(tple)\n",
    "\n",
    "#tuple menjadi set\n",
    "tple_to_set = set(tple)\n",
    "print(\"Tuple menjadi set: \")\n",
    "print(tple_to_set)\n",
    "print(\"Set menjadi tuple: \")\n",
    "\n",
    "#set menjadi tuple\n",
    "set_to_tuple = tuple(tple_to_set)\n",
    "print(set_to_tuple)"
   ]
  },
  {
   "cell_type": "code",
   "execution_count": 6,
   "id": "998f966a-0fed-4aa0-995d-0d375ca318f4",
   "metadata": {},
   "outputs": [
    {
     "name": "stdin",
     "output_type": "stream",
     "text": [
      "Masukkan file pertama:  teks1.txt\n",
      "Masukkan file kedua:  teks2.txt\n"
     ]
    },
    {
     "name": "stdout",
     "output_type": "stream",
     "text": [
      "ADA KATA KEMBAR\n",
      "suka, hidup, ia, pizza\n"
     ]
    }
   ],
   "source": [
    "import re\n",
    "while True:\n",
    "    file1 = input(\"Masukkan file pertama: \")\n",
    "    file2 = input(\"Masukkan file kedua: \")\n",
    "    try:\n",
    "        with open(file1, \"r\") as f, open(file2, \"r\") as f2:\n",
    "            f1_ls = f.read().lower()\n",
    "            f2_ls = f2.read().lower()\n",
    "            \n",
    "            f1_ls = re.findall(r\"[\\w]+\", f1_ls)\n",
    "            f2_ls = re.findall(r\"[\\w]+\", f2_ls)\n",
    "            intersection_words = (set(f1_ls) & set(f2_ls))\n",
    "            if intersection_words:\n",
    "                print(\"ADA KATA KEMBAR\")\n",
    "                print(\", \".join(intersection_words))\n",
    "            else:\n",
    "                print(\"Ga ada duplikasi kata\")   \n",
    "            break\n",
    "    except FileNotFoundError as e:\n",
    "        print(\"Masukkan nama file yang benar, \", e) "
   ]
  },
  {
   "cell_type": "code",
   "execution_count": null,
   "id": "85fcf4cf-0edd-4815-8b27-90f27093f545",
   "metadata": {},
   "outputs": [],
   "source": []
  }
 ],
 "metadata": {
  "kernelspec": {
   "display_name": "Python 3 (ipykernel)",
   "language": "python",
   "name": "python3"
  },
  "language_info": {
   "codemirror_mode": {
    "name": "ipython",
    "version": 3
   },
   "file_extension": ".py",
   "mimetype": "text/x-python",
   "name": "python",
   "nbconvert_exporter": "python",
   "pygments_lexer": "ipython3",
   "version": "3.12.7"
  }
 },
 "nbformat": 4,
 "nbformat_minor": 5
}
