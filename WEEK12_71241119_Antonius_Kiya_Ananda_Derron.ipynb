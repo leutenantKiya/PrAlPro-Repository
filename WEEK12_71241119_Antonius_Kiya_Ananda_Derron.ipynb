{
 "cells": [
  {
   "cell_type": "code",
   "execution_count": 1,
   "id": "56e9c960-22e0-48b8-b798-bedce4f59f52",
   "metadata": {},
   "outputs": [
    {
     "name": "stdout",
     "output_type": "stream",
     "text": [
      "True\n",
      "False\n"
     ]
    }
   ],
   "source": [
    "#12.1\n",
    "def status(tA):\n",
    "    state = True\n",
    "    if any(i != tA[0] for i in tA[1:]):\n",
    "        return not state\n",
    "    else:\n",
    "        return state\n",
    "tA= (90,90, 90, 90)\n",
    "tA2 = (90,87,29,90)\n",
    "\n",
    "print(status(tA))\n",
    "print(status(tA2))"
   ]
  },
  {
   "cell_type": "code",
   "execution_count": 2,
   "id": "81cda43f-6b75-4203-b513-c6d94de001d9",
   "metadata": {},
   "outputs": [
    {
     "name": "stdout",
     "output_type": "stream",
     "text": [
      "NIM\t: 22064091\n",
      "NAMA\t: 22064091\n",
      "ALAMAT\t: Bantul, DI Yogyakarta\n",
      "\n",
      "NIM: ('2', '2', '0', '6', '4', '0', '9', '1')\n",
      "NAMA DEPAN: ('a', 't', 'a', 'h', 'a', 'r', 'i')\n",
      "NAMA TERBALIK: ('Nendya', 'Bhakti', 'Matahari')\n"
     ]
    }
   ],
   "source": [
    "#12.2\n",
    "import re\n",
    "data_professor =  ('Matahari Bhakti Nendya', '22064091', 'Bantul, DI Yogyakarta')\n",
    "for i in data_professor:\n",
    "    if i.isdigit():\n",
    "        nim = i\n",
    "    else:\n",
    "        if re.search(r\",\", i):\n",
    "            alamat = i\n",
    "        else:\n",
    "            nama = i\n",
    "print(\"NIM\\t:\", nim)          \n",
    "print(\"NAMA\\t:\", nim)          \n",
    "print(\"ALAMAT\\t:\", alamat)          \n",
    "\n",
    "print()\n",
    "print(\"NIM:\", tuple(nim))\n",
    "print(\"NAMA DEPAN:\", tuple(nama.split()[0][1:]))\n",
    "print(\"NAMA TERBALIK:\", tuple(nama.split()[-1: -len(nama) - 1: -1]))"
   ]
  },
  {
   "cell_type": "code",
   "execution_count": 3,
   "id": "f8795c79-7116-4eba-8ef7-bf5862c702e6",
   "metadata": {},
   "outputs": [
    {
     "name": "stdin",
     "output_type": "stream",
     "text": [
      "Masukkan nama file:\n",
      ">> mbox-short.txt\n"
     ]
    },
    {
     "name": "stdout",
     "output_type": "stream",
     "text": [
      "4 3\n",
      "6 1\n",
      "7 1\n",
      "9 2\n",
      "10 3\n",
      "11 6\n",
      "14 1\n",
      "15 2\n",
      "16 4\n",
      "17 2\n",
      "18 1\n",
      "19 1\n"
     ]
    }
   ],
   "source": [
    "#12.3\n",
    "import re\n",
    "file = input(\"Masukkan nama file:\\n>>\")\n",
    "with open(file) as f:\n",
    "    jam = list()\n",
    "    for line in f:\n",
    "        if line.startswith('From'):\n",
    "            temp = re.findall(r'\\d\\d:\\d\\d:\\d\\d', line)\n",
    "            if temp:\n",
    "                temp = int(temp[0].split(\":\")[0])\n",
    "                for i,  (time, count) in enumerate(jam):\n",
    "                    if temp == time:\n",
    "                        jam[i] = (time, count + 1)\n",
    "                        break\n",
    "                else:\n",
    "                    jam.append((temp, 1))\n",
    "\n",
    "    jam.sort()\n",
    "for i in jam:\n",
    "    print(i[0],i[1])"
   ]
  },
  {
   "cell_type": "code",
   "execution_count": null,
   "id": "8a93c4ea-a158-4bb5-9430-86aa0dd1f66c",
   "metadata": {},
   "outputs": [],
   "source": []
  }
 ],
 "metadata": {
  "kernelspec": {
   "display_name": "Python 3 (ipykernel)",
   "language": "python",
   "name": "python3"
  },
  "language_info": {
   "codemirror_mode": {
    "name": "ipython",
    "version": 3
   },
   "file_extension": ".py",
   "mimetype": "text/x-python",
   "name": "python",
   "nbconvert_exporter": "python",
   "pygments_lexer": "ipython3",
   "version": "3.12.7"
  }
 },
 "nbformat": 4,
 "nbformat_minor": 5
}
