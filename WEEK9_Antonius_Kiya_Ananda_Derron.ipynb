{
 "cells": [
  {
   "cell_type": "code",
   "execution_count": 1,
   "id": "4007a26c-7cc4-469a-8a25-c85e668fdfb7",
   "metadata": {},
   "outputs": [
    {
     "name": "stdout",
     "output_type": "stream",
     "text": [
      "in row 2 column price, you wrote \"13300000\" in the row where the right data is \"13300003\"\n",
      "in row 4 column bedrooms, you wrote \"3\" in the row where the right data is \"7\"\n",
      "in row 105 column guestroom, you wrote \"yes\" in the row where the right data is \"no\"\n",
      "in row 111 column guestroom, you wrote \"yes\" in the row where the right data is \"no\"\n"
     ]
    }
   ],
   "source": [
    "with open('Housing-2.txt') as txt1, open('Housing.txt') as checker:\n",
    "    ls = []\n",
    "    for line in checker:\n",
    "        ls.append(line.split(\",\"))\n",
    "    for i, line in enumerate(txt1):\n",
    "        line = line.split(\",\")\n",
    "        if line == ls[i]:\n",
    "            continue\n",
    "        else:\n",
    "            for _ in range(len(line)):\n",
    "                if ls[i][_] != line[_]:\n",
    "                    print(f\"in row {i + 1} column {ls[0][_].strip()}, you wrote \\\"{line[_].strip()}\\\" in the row where the right data is \\\"{ls[i][_].strip()}\\\"\")"
   ]
  },
  {
   "cell_type": "code",
   "execution_count": 4,
   "id": "737ccb03-4e82-418c-b15b-4624f09a4dcd",
   "metadata": {},
   "outputs": [
    {
     "data": {
      "text/html": [
       "<div>\n",
       "<style scoped>\n",
       "    .dataframe tbody tr th:only-of-type {\n",
       "        vertical-align: middle;\n",
       "    }\n",
       "\n",
       "    .dataframe tbody tr th {\n",
       "        vertical-align: top;\n",
       "    }\n",
       "\n",
       "    .dataframe thead th {\n",
       "        text-align: right;\n",
       "    }\n",
       "</style>\n",
       "<table border=\"1\" class=\"dataframe\">\n",
       "  <thead>\n",
       "    <tr style=\"text-align: right;\">\n",
       "      <th></th>\n",
       "      <th>Day</th>\n",
       "      <th>Event</th>\n",
       "      <th>Time</th>\n",
       "    </tr>\n",
       "  </thead>\n",
       "  <tbody>\n",
       "    <tr>\n",
       "      <th>0</th>\n",
       "      <td>03/06/2025</td>\n",
       "      <td>Bootcamp</td>\n",
       "      <td>10.00-16.00</td>\n",
       "    </tr>\n",
       "  </tbody>\n",
       "</table>\n",
       "</div>"
      ],
      "text/plain": [
       "          Day     Event         Time\n",
       "0  03/06/2025  Bootcamp  10.00-16.00"
      ]
     },
     "execution_count": 4,
     "metadata": {},
     "output_type": "execute_result"
    }
   ],
   "source": [
    "df"
   ]
  },
  {
   "cell_type": "code",
   "execution_count": 5,
   "id": "5134ce78-26a8-4298-85c8-21fb313edd1d",
   "metadata": {},
   "outputs": [
    {
     "name": "stdout",
     "output_type": "stream",
     "text": [
      "1+1 =\n"
     ]
    },
    {
     "name": "stdin",
     "output_type": "stream",
     "text": [
      "Jawab :  2\n"
     ]
    },
    {
     "name": "stdout",
     "output_type": "stream",
     "text": [
      "Benar\n",
      "Bendera Indonesia? \n"
     ]
    },
    {
     "name": "stdin",
     "output_type": "stream",
     "text": [
      "Jawab :  merah putih\n"
     ]
    },
    {
     "name": "stdout",
     "output_type": "stream",
     "text": [
      "Benar\n",
      "Kota gudeg adalah: \n"
     ]
    },
    {
     "name": "stdin",
     "output_type": "stream",
     "text": [
      "Jawab :  yogya\n"
     ]
    },
    {
     "name": "stdout",
     "output_type": "stream",
     "text": [
      "salah\n",
      "KomponenPC untuk penyimpanan file adalah... \n"
     ]
    },
    {
     "name": "stdin",
     "output_type": "stream",
     "text": [
      "Jawab :  HARDDISK\n"
     ]
    },
    {
     "name": "stdout",
     "output_type": "stream",
     "text": [
      "Benar\n",
      "50 *20 = \n"
     ]
    },
    {
     "name": "stdin",
     "output_type": "stream",
     "text": [
      "Jawab :  1000\n"
     ]
    },
    {
     "name": "stdout",
     "output_type": "stream",
     "text": [
      "Benar\n"
     ]
    }
   ],
   "source": [
    "with open('soal.txt') as soal:\n",
    "    soal_ls = []\n",
    "    for lines in soal:\n",
    "        soal_ls.append(lines.strip().split(\"||\"))\n",
    "    for _ in soal_ls:\n",
    "        print(_[0])\n",
    "        jawab = input(\"Jawab : \").lower()\n",
    "        if jawab != _[1].strip().lower():\n",
    "            print(\"salah\")\n",
    "        else:\n",
    "            print(\"Benar\")"
   ]
  },
  {
   "cell_type": "code",
   "execution_count": null,
   "id": "3c414f57-0316-4b81-b3c9-3444a3c16df5",
   "metadata": {},
   "outputs": [],
   "source": [
    "import os\n",
    "import pandas as pd\n",
    "file = 'to-do.csv'\n",
    "\n",
    "user = input(\"Ingin menambahkan acara? (y/n)\").lower()\n",
    "while user != 'n':\n",
    "    if os.path.exists(file):\n",
    "        with open(file, \"a\") as todo:\n",
    "            tks = input(\"Masukkan tanggal, event, dan waktu (beri koma) :\\n>>\")\n",
    "            todo.write(f\"\\n{tks}\")\n",
    "        df = pd.read_csv(file)\n",
    "        print(df)\n",
    "    else:\n",
    "        if input(\"do you want to make a to do list? (y/n)\").lower() == 'y':\n",
    "            with open(file, 'w') as todo:\n",
    "                todo.write('Day,Event,Time')\n",
    "        else:\n",
    "            print(\"Thank You\")\n",
    "            break\n",
    "    user = input('Apakah anda ingin melanjutkan? (y/n)').lower()"
   ]
  }
 ],
 "metadata": {
  "kernelspec": {
   "display_name": "Python 3 (ipykernel)",
   "language": "python",
   "name": "python3"
  },
  "language_info": {
   "codemirror_mode": {
    "name": "ipython",
    "version": 3
   },
   "file_extension": ".py",
   "mimetype": "text/x-python",
   "name": "python",
   "nbconvert_exporter": "python",
   "pygments_lexer": "ipython3",
   "version": "3.12.7"
  }
 },
 "nbformat": 4,
 "nbformat_minor": 5
}
