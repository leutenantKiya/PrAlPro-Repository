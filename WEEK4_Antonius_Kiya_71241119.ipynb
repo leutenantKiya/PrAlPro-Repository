{
 "cells": [
  {
   "cell_type": "code",
   "execution_count": 1,
   "id": "c4c892b4-f9f9-4f69-aaa8-2364fdf49f34",
   "metadata": {},
   "outputs": [
    {
     "name": "stdin",
     "output_type": "stream",
     "text": [
      "Masukan suhu anda :  tiga puluh delapan\n"
     ]
    },
    {
     "name": "stdout",
     "output_type": "stream",
     "text": [
      "Ada kesalahan invalid literal for int() with base 10: 'tiga puluh delapan'. Masukkan input berupa angka!😠\n"
     ]
    }
   ],
   "source": [
    "# #Soal mandiri 1, gambar 4.1 demam atau tidak\n",
    "suhu = input(\"Masukan suhu anda : \")\n",
    "try:\n",
    "    suhu = int(suhu)\n",
    "except ValueError as e:\n",
    "    print(\"Ada kesalahan\", e, end=\".\")\n",
    "    print(\" Masukkan input berupa angka!😠\")\n",
    "else:\n",
    "    #nyoba pakai ternary\n",
    "    print(\"Anda demam!!\") if suhu >= 38 else print(\"Anda sehat!! Jaga kesehatanmu ya : \\U0001f600\")"
   ]
  },
  {
   "cell_type": "code",
   "execution_count": 2,
   "id": "0dbdb0c8-8750-4869-a5cc-4537963e37f9",
   "metadata": {},
   "outputs": [
    {
     "name": "stdin",
     "output_type": "stream",
     "text": [
      "Masukkan nomor:  nol\n"
     ]
    },
    {
     "name": "stdout",
     "output_type": "stream",
     "text": [
      "Ada error invalid literal for int() with base 10: 'nol'. Pakai angka ya beb (0, 1, 2,...) 😀\n"
     ]
    },
    {
     "name": "stdin",
     "output_type": "stream",
     "text": [
      "Masukkan nomor:  1\n"
     ]
    },
    {
     "name": "stdout",
     "output_type": "stream",
     "text": [
      "positif\n"
     ]
    }
   ],
   "source": [
    "#Soal mandiri 1, gambar 4.2 negatif atau positif\n",
    "while True:\n",
    "#atau sama saja dengan while ValueError karena python menganggap hampir semua objek not false\n",
    "    nomor = input(\"Masukkan nomor: \")\n",
    "    try:\n",
    "        nomor = int(nomor)\n",
    "        if nomor == 0:\n",
    "            print(\"nol\")\n",
    "        else:\n",
    "            print(\"positif\") if nomor > 0 else print(\"negatif\")\n",
    "        break\n",
    "    except ValueError as e:\n",
    "        print(\"Ada error\", e, end=\".\")\n",
    "        print(\" Pakai angka ya beb (0, 1, 2,...) \\U0001f600\")"
   ]
  },
  {
   "cell_type": "code",
   "execution_count": 3,
   "id": "fa9efb37-d2b2-4372-ac17-e2ca0b68ac3d",
   "metadata": {},
   "outputs": [
    {
     "name": "stdin",
     "output_type": "stream",
     "text": [
      "Masukkan angka pertama:  satu\n",
      "Masukkan angka kedua:  dua\n",
      "Masukkan angka ketiga:  tiga\n"
     ]
    },
    {
     "name": "stdout",
     "output_type": "stream",
     "text": [
      "Sepertinya ada error invalid literal for int() with base 10: 'satu' di input anda. Tolong masukkan angka (0,1,..) ya! 😀\n"
     ]
    }
   ],
   "source": [
    "#Soal mandiri 4.1, gambar 4.3\n",
    "a = input(\"Masukkan angka pertama: \")\n",
    "b = input(\"Masukkan angka kedua: \")\n",
    "c = input(\"Masukkan angka ketiga: \")\n",
    "values = [a, b, c]\n",
    "\n",
    "try:\n",
    "    #map function itu fungsi di python untuk mentype cast iterable seperti list. Imitasi cara kerja ku tulis di bawah\n",
    "    res = map(int, values) \n",
    "    values = list(res)\n",
    "except ValueError as e:\n",
    "    print(f\"Sepertinya ada error {e} di input anda. Tolong masukkan angka (0,1,..) ya! \\U0001f600\")\n",
    "else:\n",
    "    values.sort(reverse= True)\n",
    "    print(\"terbesar\", values[0])\n",
    "\n",
    "#kalau berdasar module. Tanpa list\n",
    "# if a > b and a > c:\n",
    "#     print(\"terbesar\", a)\n",
    "# elif b > a and b > c:\n",
    "#     print(\"terbesar\", b)\n",
    "# elif c > b and c > a:\n",
    "#     print(\"terbesar\", c)\n",
    "\n",
    "#map function (imitasi)\n",
    "# for items in range(0, 3):\n",
    "#     temp = int(values[items])\n",
    "#     values.pop(items)\n",
    "#     values.insert(items, temp)\n",
    "    "
   ]
  },
  {
   "cell_type": "code",
   "execution_count": 4,
   "id": "091e7cbe-fb0f-4173-8713-3f76ae00adf3",
   "metadata": {},
   "outputs": [
    {
     "name": "stdin",
     "output_type": "stream",
     "text": [
      "masukkan angka :  +3\n"
     ]
    },
    {
     "name": "stdout",
     "output_type": "stream",
     "text": [
      "positif\n"
     ]
    }
   ],
   "source": [
    "#soal mandiri 4.2, positif-negatif menggunakan ternary\n",
    "bilangan = int(input(\"masukkan angka : \"))\n",
    "print(\"positif\") if bilangan > 0 else(print(\"negatif\") if bilangan < 0 else print(\"nol\"))"
   ]
  },
  {
   "cell_type": "code",
   "execution_count": 5,
   "id": "fe876c62-e1a0-4a35-94d3-daac7b5cce33",
   "metadata": {},
   "outputs": [
    {
     "name": "stdin",
     "output_type": "stream",
     "text": [
      "Masukkan bulan untuk pengecekan jumlah hari :  13\n"
     ]
    },
    {
     "name": "stdout",
     "output_type": "stream",
     "text": [
      "Bulan hanya 1 - 12\n",
      "tolong masukkan angka yang valid\n"
     ]
    },
    {
     "name": "stdin",
     "output_type": "stream",
     "text": [
      "Masukkan bulan untuk pengecekan jumlah hari :  12\n"
     ]
    },
    {
     "name": "stdout",
     "output_type": "stream",
     "text": [
      "bulan ke-12 memiliki 31 hari.\n"
     ]
    }
   ],
   "source": [
    "#soal mandiri 4.3, bulan\n",
    "while True:\n",
    "    bulan = input(\"Masukkan bulan untuk pengecekan jumlah hari : \")\n",
    "    try:\n",
    "        bulan = int(bulan)\n",
    "        bulan_dict = {1:31, 2:28, 3:31, 4:30,\n",
    "                      5:31, 6:30, 7:31, 8:31,\n",
    "                      9:30, 10:31, 11:30, 12:31}\n",
    "        if bulan not in bulan_dict:\n",
    "            raise ValueError(print(\"Bulan hanya 1 - 12\"))\n",
    "        else:\n",
    "            print(f\"bulan ke-{bulan} memiliki {bulan_dict[bulan]} hari.\")\n",
    "            break\n",
    "    except ValueError as e:\n",
    "        print(\"tolong masukkan angka yang valid\")"
   ]
  },
  {
   "cell_type": "code",
   "execution_count": 6,
   "id": "4d9ca7ca-54b5-4a60-893c-fb4d17bec67b",
   "metadata": {},
   "outputs": [
    {
     "name": "stdin",
     "output_type": "stream",
     "text": [
      "masukkan sisi 1 :  satu\n",
      "masukkan sisi 2 :  dua\n",
      "masukkan sisi 3 :  tiga\n"
     ]
    },
    {
     "name": "stdout",
     "output_type": "stream",
     "text": [
      "Tolong masukan angka ya(0,1,...).\n"
     ]
    }
   ],
   "source": [
    "#soal mandiri 4.4, berapa sisi segitiga sama\n",
    "a = input(\"masukkan sisi 1 : \")\n",
    "b = input(\"masukkan sisi 2 : \")\n",
    "c = input(\"masukkan sisi 3 : \")\n",
    "value = [a, b, c]\n",
    "try:\n",
    "    a, b, c = [float(x) for x in value]\n",
    "except ValueError as e:\n",
    "    print(\"Tolong masukan angka ya(0,1,...).\")\n",
    "else:\n",
    "    if a == b and b == c:\n",
    "        print(\"Bilangan yang sama ada 3\")\n",
    "    elif a == b or a == c or b == c:\n",
    "        print(\"Bilangan yang sama ada 2\")\n",
    "    else:\n",
    "        print(\"Tidak ada bilangan yang sama\")\n",
    "\n",
    "#honorable mention code\n",
    "# sisi = [a, b, c]\n",
    "\n",
    "# for items in range(0, 3):\n",
    "#     temp = sisi[items]\n",
    "#     sisi.pop(items)\n",
    "#     count = 1\n",
    "#     for index in range(len(sisi)):\n",
    "#         if sisi[index] == temp:\n",
    "#             count += 1\n",
    "#     if count > 1:\n",
    "#         break\n",
    "#     else:\n",
    "#         sisi.insert(items, temp)\n",
    "# if count > 1:\n",
    "#     print(count)\n",
    "# else:\n",
    "#     print(\"0\")"
   ]
  },
  {
   "cell_type": "code",
   "execution_count": null,
   "id": "179efaa5-0bdf-4dc5-b96c-ed227cac5d8d",
   "metadata": {},
   "outputs": [],
   "source": []
  }
 ],
 "metadata": {
  "kernelspec": {
   "display_name": "Python 3 (ipykernel)",
   "language": "python",
   "name": "python3"
  },
  "language_info": {
   "codemirror_mode": {
    "name": "ipython",
    "version": 3
   },
   "file_extension": ".py",
   "mimetype": "text/x-python",
   "name": "python",
   "nbconvert_exporter": "python",
   "pygments_lexer": "ipython3",
   "version": "3.12.7"
  }
 },
 "nbformat": 4,
 "nbformat_minor": 5
}
