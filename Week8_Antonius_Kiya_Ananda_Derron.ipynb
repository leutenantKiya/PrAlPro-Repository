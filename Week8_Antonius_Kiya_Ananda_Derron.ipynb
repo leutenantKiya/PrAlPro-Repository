{
 "cells": [
  {
   "cell_type": "code",
   "execution_count": 1,
   "id": "fd12a4a4-e2af-42fd-8173-7172ba26dad7",
   "metadata": {},
   "outputs": [
    {
     "name": "stdout",
     "output_type": "stream",
     "text": [
      "bukan anagram\n",
      "anagram\n"
     ]
    }
   ],
   "source": [
    "#8.1\n",
    "def anagram(teks, anag): #cara paling gampang si di sorting aja ntar compare asciinya\n",
    "    #hah kiya mempermudah diri sendiri? tentu saja tidak ferguso\n",
    "    #https://docs.python.org/3.4/library/functions.html#ord\n",
    "    #track perulangan huruf\n",
    "    ls = [0] * 26\n",
    "    ls_teks = [0] * 26\n",
    "    if len(teks) != len(anag):\n",
    "        return \"bukan anagram\"\n",
    "    for _ in anag:\n",
    "        if _ in teks.lower():\n",
    "            ls[ord(_) - 97] += 1\n",
    "            ls_teks[ord(_) - 97] += 1\n",
    "        else:\n",
    "            return \"bukan anagram\"\n",
    "    if ls_teks == ls:\n",
    "        return \"anagram\"\n",
    "    else:\n",
    "        return \"bukan anagram\"\n",
    "\n",
    "print(anagram(\"mata\", \"atmA\"))\n",
    "print(anagram(\"mata\", \"tama\"))\n"
   ]
  },
  {
   "cell_type": "code",
   "execution_count": 4,
   "id": "997d194f-fe4c-4177-8ee5-bcb628b91ca2",
   "metadata": {},
   "outputs": [
    {
     "name": "stdout",
     "output_type": "stream",
     "text": [
      "makan muncul sebanyak 3\n"
     ]
    }
   ],
   "source": [
    "#8.2\n",
    "import re\n",
    "def pengulangan_kata(kata, cek):\n",
    "    kata = re.findall(r\"[\\w]+\", kata)\n",
    "    count = 0\n",
    "    for _ in kata:\n",
    "        if _.lower() in cek:\n",
    "            count += 1\n",
    "    return count\n",
    "\n",
    "print(\"makan muncul sebanyak\", pengulangan_kata(\"Saya mau makan. Makan itu wajib. Mau siang atau malam saya wajib makan\", \"makan\"))"
   ]
  },
  {
   "cell_type": "code",
   "execution_count": 5,
   "id": "58077293-059d-4cef-a441-0b025185d050",
   "metadata": {},
   "outputs": [
    {
     "name": "stdout",
     "output_type": "stream",
     "text": [
      "saya tidak suka memancing ikan\n"
     ]
    }
   ],
   "source": [
    "#8.3\n",
    "def pengulangan_spasi(teks):\n",
    "    teks = teks.split()\n",
    "    return \" \".join(teks)\n",
    "print(pengulangan_spasi(\"saya tidak suka memancing ikan \"))"
   ]
  },
  {
   "cell_type": "code",
   "execution_count": 7,
   "id": "9f281c6d-f7b8-406c-b1fc-08a0cb875df9",
   "metadata": {},
   "outputs": [
    {
     "name": "stdout",
     "output_type": "stream",
     "text": [
      "snakes\n"
     ]
    }
   ],
   "source": [
    "#8.4\n",
    "def kata_terpanjang(teks):\n",
    "    teks = teks.split()\n",
    "    # x = sorted(teks, key=len)\n",
    "    # return max(teks, key=len)\n",
    "    jumlah_huruf = list(map(len, teks))\n",
    "    for _ in teks:\n",
    "        if len(_) == max(jumlah_huruf):\n",
    "            return _\n",
    "print(kata_terpanjang(\"red snakes and a black frog in the pool\"))"
   ]
  },
  {
   "cell_type": "code",
   "execution_count": 8,
   "id": "76b6428c-60c3-45dd-b058-0760df817f00",
   "metadata": {},
   "outputs": [
    {
     "name": "stdout",
     "output_type": "stream",
     "text": [
      "17-08-1945 00:00:00 selisih 29108\n",
      "11-11-1785 00:00:00 selisih 87460\n",
      "08-06-1783 00:00:00 selisih 88347\n",
      "02-05-1889 00:00:00 selisih 49668\n"
     ]
    }
   ],
   "source": [
    "#8.5\n",
    "import re\n",
    "TANGGAL = \"27-04-2025\"\n",
    "TANGGAL, BULAN, TAHUN = map(int, TANGGAL.split(\"-\"))\n",
    "\n",
    "def kabisat(tahun): \n",
    "    return True if tahun % 4 == 0 and (tahun % 100 != 0 or tahun % 400 == 0) else False\n",
    "    \n",
    "def selisih_hari(tanggal_ls):\n",
    "    tahun, bulan, hari = map(int, tanggal_ls)\n",
    "    acuan = [31,28,31,30,31,30,31,31,30,31,30,31]\n",
    "    acuan_kabisat = [31,29,31,30,31,30,31,31,30,31,30,31]\n",
    "    #tanggal 5 bulan 2 2020 -> habisin ke bawah 17 8 jd bulan 9 startnya\n",
    "    count = 0\n",
    "    if kabisat(tahun):\n",
    "        count += sum(acuan_kabisat[bulan : ]) + acuan_kabisat[bulan - 1] - hari\n",
    "    else:\n",
    "        count += sum(acuan[bulan : ]) + acuan[bulan - 1] - hari\n",
    "    if kabisat(TAHUN):\n",
    "        count += sum(acuan_kabisat[ :BULAN - 1]) + TANGGAL\n",
    "    else:\n",
    "        count += sum(acuan[: BULAN -1]) + TANGGAL\n",
    "    for i in range(tahun + 1, TAHUN):\n",
    "        if kabisat(i):\n",
    "            count += sum(acuan_kabisat)\n",
    "        else:\n",
    "            count += sum(acuan)\n",
    "    return count\n",
    "\n",
    "    \n",
    "tks = \"\"\"Pada tanggal 1945-08-17 Indonesia merdeka. Indonesia memiliki beberapa pahlawan\n",
    "nasional, seperti Pangeran Diponegoro (TL: 1785-11-11), Pattimura (TL: 1783-06-08) dan Ki\n",
    "Hajar Dewantara (1889-05-02).\"\"\"\n",
    "\n",
    "tanggal = re.findall(r\"\\d\\d\\d\\d-\\d\\d-\\d\\d\", tks)\n",
    "for i in range(len(tanggal)):\n",
    "    temp = tanggal[i].split(\"-\")\n",
    "    print(f\"{temp[2]}-{temp[1]}-{temp[0]} 00:00:00 selisih {selisih_hari(temp)}\")\n",
    "# import datetime\n",
    "# import re\n",
    "\n",
    "# tks = \"Pada tanggal 1945-08-17 Indonesia merdeka. Indonesia memiliki beberapa pahlawan nasional, seperti Pangeran Diponegoro (TL: 1785-11-11), Pattimura (TL: 1783-06-08) dan Ki Hajar Dewantara (1889-05-02).\"\n",
    "# tanggal = re.findall(r\"\\d\\d\\d\\d-\\d\\d-\\d\\d\", tks)\n",
    "# curr_date = \"05-1-1946\"\n",
    "# date, month, year = map(int, TANGGAL.split(\"-\"))\n",
    "# for i in range(len(tanggal)):\n",
    "#     temp = tanggal[i].split(\"-\")"
   ]
  },
  {
   "cell_type": "code",
   "execution_count": null,
   "id": "b5a52d48-e423-4fb4-b740-6471cec99ca5",
   "metadata": {},
   "outputs": [],
   "source": [
    "#8.6\n",
    "import re\n",
    "import random\n",
    "import string\n",
    "\n",
    "data = \"\"\"Berikut adalah daftar email dan nama pengguna dari mailing list:\n",
    "anton@mail.com dimiliki oleh antonius\n",
    "budi@gmail.co.id dimiliki oleh budi anwari\n",
    "slamet@getnada.com dimiliki oleh slamet slumut\n",
    "matahari@tokopedia.com dimiliki oleh toko matahari\n",
    "\"\"\"\n",
    "email = re.findall(r'\\S+@\\S+', data)\n",
    "username = re.findall(r'(\\S+)[@]', data)\n",
    "random_char = string.ascii_letters + string.digits\n",
    "for _ in range(len(email)):\n",
    "    password = \"\".join(random.choice(random_char) for _ in range(8))\n",
    "    print(email[_], f\"username: {username[_]}, password: {password}\")"
   ]
  }
 ],
 "metadata": {
  "kernelspec": {
   "display_name": "Python 3 (ipykernel)",
   "language": "python",
   "name": "python3"
  },
  "language_info": {
   "codemirror_mode": {
    "name": "ipython",
    "version": 3
   },
   "file_extension": ".py",
   "mimetype": "text/x-python",
   "name": "python",
   "nbconvert_exporter": "python",
   "pygments_lexer": "ipython3",
   "version": "3.12.7"
  }
 },
 "nbformat": 4,
 "nbformat_minor": 5
}
