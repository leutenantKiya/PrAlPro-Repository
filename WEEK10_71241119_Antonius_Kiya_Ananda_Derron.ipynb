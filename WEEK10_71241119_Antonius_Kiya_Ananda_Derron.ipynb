{
 "cells": [
  {
   "cell_type": "code",
   "execution_count": 1,
   "id": "ae18a117-1adb-4aa3-a086-91be90981d93",
   "metadata": {},
   "outputs": [
    {
     "name": "stdout",
     "output_type": "stream",
     "text": [
      "3 Angka terbesar:  100, 100, 90\n"
     ]
    }
   ],
   "source": [
    "#10.1\n",
    "nilai = [100, 90, 80, 100, 70, 80]\n",
    "nilai.sort(reverse=True)\n",
    "print(\"3 Angka terbesar: \",\", \".join(list(map(str,nilai))[:3]))"
   ]
  },
  {
   "cell_type": "code",
   "execution_count": 2,
   "id": "287cf35d-2d59-48e4-b5a7-fdc3198b5b09",
   "metadata": {},
   "outputs": [
    {
     "name": "stdin",
     "output_type": "stream",
     "text": [
      "masukkan angka:\n",
      ">>  10\n",
      "masukkan angka:\n",
      ">>  sksadjksa\n"
     ]
    },
    {
     "name": "stdout",
     "output_type": "stream",
     "text": [
      "Masukkan angka atau \"done\"\n"
     ]
    },
    {
     "name": "stdin",
     "output_type": "stream",
     "text": [
      "masukkan angka:\n",
      ">>  90\n",
      "masukkan angka:\n",
      ">>  82\n",
      "masukkan angka:\n",
      ">>  done\n"
     ]
    },
    {
     "name": "stdout",
     "output_type": "stream",
     "text": [
      "Angka terbesar: 90\n",
      "Angka terkecil: 10\n"
     ]
    }
   ],
   "source": [
    "#10.2\n",
    "ls = []\n",
    "while True:\n",
    "    try:\n",
    "        angka = input(\"masukkan angka:\\n>> \")\n",
    "        if angka.isdigit():\n",
    "            ls.append(int(angka))\n",
    "        else:\n",
    "            if angka.lower() != \"done\":\n",
    "                print(\"Masukkan angka atau \\\"done\\\"\")\n",
    "            else:\n",
    "                raise ValueError\n",
    "    except ValueError as e:\n",
    "        if len(ls) < 1:\n",
    "            print(\"Belum ada angkanya! \")\n",
    "        else:\n",
    "            print(f\"Angka terbesar: {max(ls)}\")\n",
    "            print(f\"Angka terkecil: {min(ls)}\")\n",
    "            break"
   ]
  },
  {
   "cell_type": "code",
   "execution_count": 5,
   "id": "fdc78783-fbe0-4adf-849b-b648ae4c4eff",
   "metadata": {},
   "outputs": [
    {
     "name": "stdout",
     "output_type": "stream",
     "text": [
      "Jakarta, CNBC Indonesia - Sebuah pesawat tempur Pakistan buatan China menembak jatuh sedikitnya dua jet tempur Rafale India buatan Prancis pada Rabu lalu. \n",
      "Situasi ini menandai tonggak penting yang potensial bagi jet tempur canggih Beijing.\n",
      "Melansir Reuters pada Jumat (9/5/2025), bentrokan udara tersebut merupakan kesempatan langka bagi militer untuk mempelajari kinerja pilot, \n",
      "jet tempur, dan rudal udara ke udara dalam pertempuran aktif. Militer global akan menggunakan pengetahuan tersebut untuk mempersiapkan angkatan \n",
      "udara mereka sendiri untuk pertempuran lalu\n",
      "========== kata unik ==========\n",
      "Jakarta, CNBC Indonesia - Sebuah pesawat tempur Pakistan buatan China menembak jatuh sedikitnya dua jet Rafale India Prancis pada Rabu lalu. Situasi ini menandai tonggak penting yang potensial bagi canggih Beijing. Melansir Reuters Jumat (9/5/2025), bentrokan udara tersebut merupakan kesempatan langka militer untuk mempelajari kinerja pilot, dan rudal ke dalam pertempuran aktif. global akan menggunakan pengetahuan mempersiapkan angkatan mereka sendiri\n"
     ]
    }
   ],
   "source": [
    "# 10.3\n",
    "import re       \n",
    "with open(\"berita.txt\", \"r\") as f:\n",
    "    print(f.read())\n",
    "    f.seek(0)\n",
    "    ls_kata_unik = []\n",
    "    for kata in f:\n",
    "        for j in kata.split():\n",
    "            temp = j\n",
    "            temp_cleaned = re.sub(r'[^\\w\\s]+',\"\", j).lower()\n",
    "            if temp_cleaned not in [re.sub(r'[^\\w\\s]+', \"\", _).lower() for _ in ls_kata_unik]:\n",
    "                ls_kata_unik.append(temp)     \n",
    "    print(\"=\"*10, 'kata unik', \"=\"*10)\n",
    "    print(\" \".join(ls_kata_unik))"
   ]
  },
  {
   "cell_type": "code",
   "execution_count": null,
   "id": "f46d2ca8-5aea-41ab-bae1-f445ef764c58",
   "metadata": {},
   "outputs": [],
   "source": []
  }
 ],
 "metadata": {
  "kernelspec": {
   "display_name": "Python 3 (ipykernel)",
   "language": "python",
   "name": "python3"
  },
  "language_info": {
   "codemirror_mode": {
    "name": "ipython",
    "version": 3
   },
   "file_extension": ".py",
   "mimetype": "text/x-python",
   "name": "python",
   "nbconvert_exporter": "python",
   "pygments_lexer": "ipython3",
   "version": "3.12.7"
  }
 },
 "nbformat": 4,
 "nbformat_minor": 5
}
