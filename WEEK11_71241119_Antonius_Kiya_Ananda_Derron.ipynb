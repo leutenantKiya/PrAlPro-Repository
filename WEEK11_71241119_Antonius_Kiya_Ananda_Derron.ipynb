{
 "cells": [
  {
   "cell_type": "code",
   "execution_count": 1,
   "id": "ea3a839e-e65e-4948-8f54-dff1be841f53",
   "metadata": {},
   "outputs": [
    {
     "name": "stdout",
     "output_type": "stream",
     "text": [
      "key\tvalue\titem\n",
      " 1\t 10\t 1\n",
      " 2\t 20\t 2\n",
      " 3\t 30\t 3\n",
      " 4\t 40\t 4\n",
      " 5\t 50\t 5\n",
      " 6\t 60\t 6\n"
     ]
    }
   ],
   "source": [
    "# 11.1\n",
    "Dictionary =  {1: 10,2: 20, 3:30, 4: 40,5: 50, 6:60}\n",
    "print(\"key\\tvalue\\titem\")\n",
    "for key, values in Dictionary.items():\n",
    "    print(f\" {key}\\t {values}\\t {key}\")"
   ]
  },
  {
   "cell_type": "code",
   "execution_count": 6,
   "id": "eb0cc5e6-9369-4ca5-a481-82f88039d30e",
   "metadata": {},
   "outputs": [
    {
     "name": "stdout",
     "output_type": "stream",
     "text": [
      "{'red': '#FF0000', 'green': '#008000', 'blue': '#0000FF'}\n"
     ]
    }
   ],
   "source": [
    "# 11.2\n",
    "Lista =['red', 'green', 'blue'] \n",
    "Listb =['#FF0000','#008000', '#0000FF']\n",
    "dct = dict(map(lambda element: [element[0], element[1]], zip(Lista,Listb)))\n",
    "print(dct)"
   ]
  },
  {
   "cell_type": "code",
   "execution_count": 4,
   "id": "5ef461ae-fc4c-43ef-aecb-11325ff06936",
   "metadata": {},
   "outputs": [
    {
     "name": "stdin",
     "output_type": "stream",
     "text": [
      "insert the file name and extention:  mbox-short.txt\n"
     ]
    },
    {
     "name": "stdout",
     "output_type": "stream",
     "text": [
      "{'stephen.marquard@uct.ac.za': 4, 'louis@media.berkeley.edu': 6, 'zqian@umich.edu': 8, 'rjlowe@iupui.edu': 4, 'cwen@iupui.edu': 10, 'gsilver@umich.edu': 6, 'wagnermr@iupui.edu': 2, 'antranig@caret.cam.ac.uk': 2, 'gopal.ramasammycook@gmail.com': 2, 'david.horwitz@uct.ac.za': 8, 'ray@media.berkeley.edu': 2}\n"
     ]
    }
   ],
   "source": [
    "#11.3\n",
    "file = input(\"insert the file name and extention: \")\n",
    "dct = dict()\n",
    "with open(file, \"r\") as f:\n",
    "    for line in f:\n",
    "        if line.lower().startswith('from'):\n",
    "            word = line.split()\n",
    "            email = word[1]\n",
    "            dct[email] = dct.get(email,0) + 1\n",
    "    print(dct)"
   ]
  },
  {
   "cell_type": "code",
   "execution_count": 5,
   "id": "4eea7229-bc92-4192-bc14-addc2bcf4e4a",
   "metadata": {},
   "outputs": [
    {
     "name": "stdin",
     "output_type": "stream",
     "text": [
      "insert the file name and extention:  mbox-short.txt\n"
     ]
    },
    {
     "name": "stdout",
     "output_type": "stream",
     "text": [
      "{'uct.ac.za': 12, 'media.berkeley.edu': 8, 'umich.edu': 14, 'iupui.edu': 16, 'caret.cam.ac.uk': 2, 'gmail.com': 2}\n"
     ]
    }
   ],
   "source": [
    "#11.4\n",
    "with open(file, \"r\") as f:\n",
    "    file = input(\"insert the file name and extention: \")\n",
    "    domain = dict()\n",
    "    for line in f:\n",
    "        if line.lower().startswith(\"from\"):\n",
    "            word = line.split()\n",
    "            email = word[1]\n",
    "            dom = email.split(\"@\")[1]\n",
    "            domain[dom] = domain.get(dom,0) + 1\n",
    "print(domain)"
   ]
  },
  {
   "cell_type": "code",
   "execution_count": null,
   "id": "82f2ca72-783f-422e-94ec-85a9dff96ec2",
   "metadata": {},
   "outputs": [],
   "source": []
  }
 ],
 "metadata": {
  "kernelspec": {
   "display_name": "Python 3 (ipykernel)",
   "language": "python",
   "name": "python3"
  },
  "language_info": {
   "codemirror_mode": {
    "name": "ipython",
    "version": 3
   },
   "file_extension": ".py",
   "mimetype": "text/x-python",
   "name": "python",
   "nbconvert_exporter": "python",
   "pygments_lexer": "ipython3",
   "version": "3.12.7"
  }
 },
 "nbformat": 4,
 "nbformat_minor": 5
}
