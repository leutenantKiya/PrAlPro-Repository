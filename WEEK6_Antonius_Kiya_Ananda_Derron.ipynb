{
 "cells": [
  {
   "cell_type": "code",
   "execution_count": 1,
   "id": "145c2792-e2df-4f3b-a6a0-034027928a88",
   "metadata": {},
   "outputs": [
    {
     "name": "stdin",
     "output_type": "stream",
     "text": [
      "Masukkan bilangan pertama:  5\n",
      "Masukkan bilangan kedua:  5\n"
     ]
    },
    {
     "name": "stdout",
     "output_type": "stream",
     "text": [
      "5 x 5 =  5 + 5 + 5 + 5 + 5 =  25\n"
     ]
    }
   ],
   "source": [
    "def perkalian(m, n):\n",
    "    abs_m = abs(m)\n",
    "    result = m * n\n",
    "    print(f\"{m} x {n} = \", end= \" \")\n",
    "    if m < 0 and n > 0 or m < 0 and n < 0:\n",
    "        n *= -1\n",
    "    for i in range(abs_m):\n",
    "        print(n, end= \" \")\n",
    "        if i < abs_m - 1:\n",
    "            print(\"+\", end= \" \")\n",
    "    print(\"= \", result)\n",
    "        \n",
    "bilangan1 = int(input(\"Masukkan bilangan pertama: \"))\n",
    "bilangan2 = int(input(\"Masukkan bilangan kedua: \"))\n",
    "perkalian(bilangan1, bilangan2)"
   ]
  },
  {
   "cell_type": "code",
   "execution_count": 2,
   "id": "2e2aba02-ba9d-4d1a-88f3-8a66009b7e6f",
   "metadata": {},
   "outputs": [
    {
     "name": "stdout",
     "output_type": "stream",
     "text": [
      "11 13 15 17 19 21 23 25 27 29 \n",
      "97 95 93 91 89 87 85 83 \n",
      "97 95 93 91 89 87 85 83 81 "
     ]
    }
   ],
   "source": [
    "def ganjil(batasBawah, batasAtas):\n",
    "    batasAtas = batasAtas + 1 if batasBawah < batasAtas else batasAtas - 1\n",
    "    step = -1 if batasBawah > batasAtas else 1\n",
    "    for i in range(batasBawah, batasAtas, step):\n",
    "        if i % 2 != 0:\n",
    "            print(i, end= \" \")\n",
    "    \n",
    "ganjil(10, 30)\n",
    "print()\n",
    "ganjil(97, 82)\n",
    "print()\n",
    "ganjil(97, 81)"
   ]
  },
  {
   "cell_type": "code",
   "execution_count": 3,
   "id": "d33c79e7-1dd5-45ec-85f3-1f12f9d150e4",
   "metadata": {},
   "outputs": [
    {
     "name": "stdin",
     "output_type": "stream",
     "text": [
      "Berapa jumlah mata kuliah?  6\n"
     ]
    },
    {
     "name": "stdout",
     "output_type": "stream",
     "text": [
      "Nilai MK 1"
     ]
    },
    {
     "name": "stdin",
     "output_type": "stream",
     "text": [
      ":  A\n"
     ]
    },
    {
     "name": "stdout",
     "output_type": "stream",
     "text": [
      "Nilai MK 2"
     ]
    },
    {
     "name": "stdin",
     "output_type": "stream",
     "text": [
      ":  B\n"
     ]
    },
    {
     "name": "stdout",
     "output_type": "stream",
     "text": [
      "Nilai MK 3"
     ]
    },
    {
     "name": "stdin",
     "output_type": "stream",
     "text": [
      ":  C\n"
     ]
    },
    {
     "name": "stdout",
     "output_type": "stream",
     "text": [
      "Nilai MK 4"
     ]
    },
    {
     "name": "stdin",
     "output_type": "stream",
     "text": [
      ":  A\n"
     ]
    },
    {
     "name": "stdout",
     "output_type": "stream",
     "text": [
      "Nilai MK 5"
     ]
    },
    {
     "name": "stdin",
     "output_type": "stream",
     "text": [
      ":  D\n"
     ]
    },
    {
     "name": "stdout",
     "output_type": "stream",
     "text": [
      "Nilai MK 6"
     ]
    },
    {
     "name": "stdin",
     "output_type": "stream",
     "text": [
      ":  C\n"
     ]
    },
    {
     "name": "stdout",
     "output_type": "stream",
     "text": [
      "Nilai IPS anda semester ini 2.67\n"
     ]
    }
   ],
   "source": [
    "def indexPrestasiSemester(jumlah):\n",
    "    acc, i = 0, jumlah - 1\n",
    "    if jumlah <= 0:\n",
    "        return 0\n",
    "    while i + 1 > 0:\n",
    "        print(f\"Nilai MK {jumlah - i}\", end= \"\")\n",
    "        nilai = input(\": \")\n",
    "        if nilai.upper() == \"A\":\n",
    "            acc += 4\n",
    "        elif nilai.upper() == \"B\":\n",
    "            acc += 3\n",
    "        elif nilai.upper() == \"C\":\n",
    "            acc += 2\n",
    "        elif nilai.upper() == \"D\":\n",
    "            acc += 1\n",
    "        else: \n",
    "            print(\"Input harus berupa huruf A - D\")\n",
    "            i += 1\n",
    "        i -= 1       \n",
    "    return acc / jumlah\n",
    "\n",
    "jumlahMatkul = input(\"Berapa jumlah mata kuliah? \")    \n",
    "try:\n",
    "    jumlahMatkul = int(jumlahMatkul)\n",
    "    print(f\"Nilai IPS anda semester ini {indexPrestasiSemester(jumlahMatkul):.2f}\")\n",
    "except ValueError as e:\n",
    "    print(f\"ada eror pada inputan anda {e}\") "
   ]
  },
  {
   "cell_type": "code",
   "execution_count": null,
   "id": "888225ff-fd02-4859-8cc1-d25ef0f4f607",
   "metadata": {},
   "outputs": [],
   "source": []
  }
 ],
 "metadata": {
  "kernelspec": {
   "display_name": "Python 3 (ipykernel)",
   "language": "python",
   "name": "python3"
  },
  "language_info": {
   "codemirror_mode": {
    "name": "ipython",
    "version": 3
   },
   "file_extension": ".py",
   "mimetype": "text/x-python",
   "name": "python",
   "nbconvert_exporter": "python",
   "pygments_lexer": "ipython3",
   "version": "3.12.7"
  }
 },
 "nbformat": 4,
 "nbformat_minor": 5
}
